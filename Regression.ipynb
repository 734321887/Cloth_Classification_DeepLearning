{
 "cells": [
  {
   "cell_type": "code",
   "execution_count": 1,
   "metadata": {
    "collapsed": true
   },
   "outputs": [],
   "source": [
    "'''\n",
    "Assignment 1: Linear Regression using Numpy (No deep learning/ automatic differentiation libraries are allowed)\n",
    "\n",
    "\n",
    "Use Python2.7 environment\n",
    "Roll No: 14EC35031\n",
    "Name: Arnab Kumar Mondal\n",
    "\n",
    "'''\n",
    "\n",
    "import numpy as np\n",
    "import matplotlib.pyplot as plt\n",
    "%matplotlib inline\n",
    "\n",
    "# Fix seed for reproducibility\n",
    "np.random.seed(100)"
   ]
  },
  {
   "cell_type": "code",
   "execution_count": 2,
   "metadata": {},
   "outputs": [
    {
     "data": {
      "image/png": "[encoded data removed]",
      "text/plain": [
       "<matplotlib.figure.Figure at 0x7f29d685d690>"
      ]
     },
     "metadata": {},
     "output_type": "display_data"
    }
   ],
   "source": [
    "def generate_dataset():\n",
    "    '''\n",
    "    Function to generate the dataset for our problem\n",
    "    Args:\n",
    "        None\n",
    "    Return:\n",
    "        X: \n",
    "    '''\n",
    "    N = 600\n",
    "    X = np.random.randint(100, size=N)\n",
    "    e = np.random.normal(0., 12., N)\n",
    "    y = 10*X + e #Note the use of broadcasting here\n",
    "    \n",
    "    return X, y\n",
    "\n",
    "X, y = generate_dataset()\n",
    "# Now lets visualize our data\n",
    "plt.plot(X, y, 'bo')\n",
    "plt.show()\n",
    "\n",
    "# get N  ------> ? \n",
    "N = np.shape(X)[0]#fill in these\n",
    "# shuffle the dataset randomly\n",
    "# X, y contains the data after shuffling randomly X and y\n",
    "p = np.random.permutation(N)\n",
    "X, y = X[p],y[p]  # ?\n",
    "# Created train and test set\n",
    "training_size = int(0.8*N)\n",
    "\n",
    "X_train = X[:training_size]\n",
    "y_train = y[:training_size]\n",
    "X_test = X[training_size:]\n",
    "y_test = y[training_size:]\n"
   ]
  },
  {
   "cell_type": "code",
   "execution_count": 3,
   "metadata": {
    "scrolled": true
   },
   "outputs": [
    {
     "name": "stdout",
     "output_type": "stream",
     "text": [
      "Starting Training with Gradient Descent\n",
      "Loss fuction decrease after 10000 epochs of training\n"
     ]
    },
    {
     "data": {
      "image/png": "[encoded data removed]",
      "text/plain": [
       "<matplotlib.figure.Figure at 0x7f2a05955e10>"
      ]
     },
     "metadata": {},
     "output_type": "display_data"
    }
   ],
   "source": [
    "class LinearRegression(object):\n",
    "    def __init__(self):\n",
    "        #Initialize all parameters\n",
    "        self.w = np.random.uniform(-1,1) #? Sample from a uniform distribution between -1 and 1\n",
    "        self.b = np.random.uniform(-1,1) #? Sample from a uniform distribution between -1 and 1\n",
    "    \n",
    "    def forward(self, x):\n",
    "        '''\n",
    "            Do a forward pass of the classifier:\n",
    "            Args:\n",
    "                x: Input X value\n",
    "            Return:\n",
    "                y: y = wx + b\n",
    "        '''\n",
    "        # Complete this function\n",
    "        return self.w*x + self.b\n",
    "        raise NotImplementedError\n",
    "        \n",
    "    \n",
    "    def backward(self, x, ypred, y_train, lr):\n",
    "        '''\n",
    "            Computes all gradients and updates the parameters w and b\n",
    "            Args:\n",
    "                x : x\n",
    "                ypred: y=wx+b\n",
    "                y_train = ground truth values\n",
    "                lr = learning rate\n",
    "        '''\n",
    "        S = np.shape(x)[0]\n",
    "        w_grad = 2*np.dot(np.transpose(ypred - y_train),x)/S # ? Compute derivate of loss wrt w \n",
    "        b_grad = 2*np.sum(ypred - y_train)/S # ? Compute derivate of loss wrt w\n",
    "        self.w = self.w - lr*w_grad # Updating w\n",
    "        self.b = self.b - lr*b_grad # Updating b\n",
    "\n",
    "def MSELoss(y, ypred):\n",
    "    '''\n",
    "        Args:\n",
    "            y: ground truth labels\n",
    "            ypred: predicted labels\n",
    "        Return:\n",
    "            Mean squared error loss\n",
    "    '''\n",
    "    er = y-ypred\n",
    "    return np.dot(np.transpose(er),er)/(np.shape(er)[0])\n",
    "        \n",
    "\n",
    "print 'Starting Training with Gradient Descent'\n",
    "lreg = LinearRegression()\n",
    "epochs = 10000\n",
    "learning_rate = 0.0001\n",
    "\n",
    "loss_history = []\n",
    "epoch_history = []\n",
    "\n",
    "# Gradient Descent\n",
    "for e in range(epochs):\n",
    "    ypred = lreg.forward(X_train)\n",
    "    loss = MSELoss(y_train, ypred)\n",
    "    if e==0 or (e+1)%1000==0:\n",
    "        loss_history.append(loss)\n",
    "        epoch_history.append(e+1)\n",
    "    \n",
    "    lreg.backward(X_train, ypred, y_train, learning_rate)\n",
    "\n",
    "print 'Loss fuction decrease after ' + str(epochs) + ' epochs of training'\n",
    "\n",
    "#Plot the decrease in loss with epoch\n",
    "plt.plot(epoch_history, loss_history)\n",
    "plt.show()\n",
    "\n"
   ]
  },
  {
   "cell_type": "code",
   "execution_count": 4,
   "metadata": {},
   "outputs": [
    {
     "name": "stdout",
     "output_type": "stream",
     "text": [
      "Final Training loss:161.572190762\n",
      "Starting to test\n",
      "Final test loss: 139.952496756\n"
     ]
    }
   ],
   "source": [
    "print 'Final Training loss:' + str(loss_history[-1])  # Print training loss ?\n",
    "print 'Starting to test'\n",
    "ypred =  lreg.forward(X_test) # find predictions on test set ?\n",
    "loss = MSELoss(y_test, ypred)\n",
    "print 'Final test loss: ' + str(loss)"
   ]
  },
  {
   "cell_type": "code",
   "execution_count": 6,
   "metadata": {},
   "outputs": [
    {
     "name": "stdout",
     "output_type": "stream",
     "text": [
      "Visualizing learnt function on test data\n",
      "9.99702151692\n"
     ]
    },
    {
     "data": {
      "image/png": "[encoded data removed]",
      "text/plain": [
       "<matplotlib.figure.Figure at 0x7f29d46120d0>"
      ]
     },
     "metadata": {},
     "output_type": "display_data"
    }
   ],
   "source": [
    "print 'Visualizing learnt function on test data'\n",
    "\n",
    "x_ = np.arange(100)\n",
    "y_ = lreg.w*x_ + lreg.b\n",
    "plt.plot(x_, y_, 'r-', linewidth=2.0)\n",
    "plt.plot(X_test, y_test, 'bo')\n",
    "plt.show()"
   ]
  },
  {
   "cell_type": "code",
   "execution_count": null,
   "metadata": {
    "collapsed": true
   },
   "outputs": [],
   "source": []
  }
 ],
 "metadata": {
  "kernelspec": {
   "display_name": "Python 2",
   "language": "python",
   "name": "python2"
  },
  "language_info": {
   "codemirror_mode": {
    "name": "ipython",
    "version": 2
   },
   "file_extension": ".py",
   "mimetype": "text/x-python",
   "name": "python",
   "nbconvert_exporter": "python",
   "pygments_lexer": "ipython2",
   "version": "2.7.12"
  }
 },
 "nbformat": 4,
 "nbformat_minor": 2
}
